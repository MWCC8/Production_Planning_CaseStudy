{
 "cells": [
  {
   "cell_type": "markdown",
   "id": "d7570390",
   "metadata": {},
   "source": [
    "# Assignment 1: Linear Programming - The Case of Filatoi Riuniti"
   ]
  },
  {
   "cell_type": "markdown",
   "id": "be7889b1",
   "metadata": {},
   "source": [
    "## import packages"
   ]
  },
  {
   "cell_type": "code",
   "execution_count": 17,
   "id": "e9ee1e7e",
   "metadata": {},
   "outputs": [],
   "source": [
    "import gurobipy as gp\n",
    "from gurobipy import GRB\n",
    "import numpy as np"
   ]
  },
  {
   "cell_type": "markdown",
   "id": "d7cfb7e0",
   "metadata": {},
   "source": [
    "## (b)"
   ]
  },
  {
   "cell_type": "markdown",
   "id": "a83963f0",
   "metadata": {},
   "source": [
    "## import problem data"
   ]
  },
  {
   "cell_type": "code",
   "execution_count": 2,
   "id": "dd666ae9",
   "metadata": {},
   "outputs": [],
   "source": [
    "\n",
    "machine_hours = [[0, 0.7, 0.675, 0, 0.65 , 0.625, 0.7  ],\n",
    "       [0.4  , 0.5  , 0.45 , 0.45 , 0.45 , 0.5  , 0.45 ],\n",
    "       [0.375, 0.35 , 0.4  , 0.35 , 0.4  , 0.425, 0.35 ],\n",
    "       [0.25 , 0.25 , 0.25 , 0.2  , 0.25 , 0.425, 0.4  ]]\n",
    "\n",
    "#coefficients Cij\n",
    "cost_production = [[ 0  , 17.4 , 17.4 ,  0  , 17.5 , 18.25, 19.75],\n",
    "       [13.  , 14.1 , 14.22, 14.3 , 13.8 , 13.9 , 13.9 ],\n",
    "       [10.65, 11.2 , 11.  , 11.25, 11.4 , 11.4 , 10.75],\n",
    "       [ 9.6 ,  9.45,  9.5 ,  9.6 ,  9.6 ,  8.9 ,  9.4 ]]\n",
    "\n",
    "#coefficients Tij\n",
    "cost_transportation = [[0.3 , 0.4 , 0.8 , 0.7 , 0.7 , 0  , 0  ],\n",
    "       [0.3 , 0.4 , 0.8 , 0.7 , 0.7 , 0.  , 0.5 ],\n",
    "       [0.45, 0.6 , 1.2 , 1.05, 1.05, 0.  , 0.75],\n",
    "       [0.45, 0.6 , 1.2 , 1.05, 1.05, 0.  , 0.75]]\n",
    "\n",
    "\n",
    "capacity = [2500, 3000, 2500, 2600, 2500, 38000, 2500]\n",
    "demand = [25000, 26000, 28000, 28000]\n",
    "\n",
    "products = ['extra_fine', 'fine', 'medium', 'coarse']\n",
    "suppliers = ['Ambrosi','Bresciani', 'Castri', 'De Blasi', 'Estensi', 'Filatoi R.', 'Giuliani']\n"
   ]
  },
  {
   "cell_type": "code",
   "execution_count": 3,
   "id": "500a42b4",
   "metadata": {},
   "outputs": [
    {
     "name": "stdout",
     "output_type": "stream",
     "text": [
      "range(0, 7)\n"
     ]
    }
   ],
   "source": [
    "l = len(products)\n",
    "k = len(suppliers)\n",
    "I = range(l)\n",
    "J = range(k)"
   ]
  },
  {
   "cell_type": "markdown",
   "id": "90d0b55d",
   "metadata": {},
   "source": [
    "## Initiate the model"
   ]
  },
  {
   "cell_type": "code",
   "execution_count": 32,
   "id": "48b63737",
   "metadata": {},
   "outputs": [],
   "source": [
    "model = gp.Model('Filatoi Riuniti')"
   ]
  },
  {
   "cell_type": "markdown",
   "id": "81ab9b0e",
   "metadata": {},
   "source": [
    "## Define the decision variables"
   ]
  },
  {
   "cell_type": "code",
   "execution_count": 33,
   "id": "11b19977",
   "metadata": {},
   "outputs": [],
   "source": [
    "x = model.addMVar((l,k), lb=0, vtype = GRB.CONTINUOUS, name = ['x_'+i+'_'+j for i in products for j in suppliers])"
   ]
  },
  {
   "cell_type": "code",
   "execution_count": 34,
   "id": "f05ef2bc",
   "metadata": {},
   "outputs": [],
   "source": [
    "exp = sum(x[i][j]*(cost_production[i][j] + cost_transportation[i][j]) for i in I for j in J)"
   ]
  },
  {
   "cell_type": "code",
   "execution_count": 35,
   "id": "9aeb93cc",
   "metadata": {},
   "outputs": [],
   "source": [
    "model.setObjective(exp, GRB.MINIMIZE)"
   ]
  },
  {
   "cell_type": "markdown",
   "id": "d11c4f49",
   "metadata": {},
   "source": [
    "## Define the contraints"
   ]
  },
  {
   "cell_type": "markdown",
   "id": "2b29d5c4",
   "metadata": {},
   "source": [
    "## Demand constraints"
   ]
  },
  {
   "cell_type": "code",
   "execution_count": 36,
   "id": "ab3979f6",
   "metadata": {},
   "outputs": [],
   "source": [
    "for i in I:\n",
    "    model.addConstr(sum(x[i][j] for j in J) >= demand[i], 'Demand_'+products[i])"
   ]
  },
  {
   "cell_type": "markdown",
   "id": "ad13abc7",
   "metadata": {},
   "source": [
    "## Capacity contraints"
   ]
  },
  {
   "cell_type": "code",
   "execution_count": 37,
   "id": "73847c04",
   "metadata": {},
   "outputs": [],
   "source": [
    "for j in J:\n",
    "    model.addConstr(sum(machine_hours[i][j]*x[i][j] for i in I) <= capacity[j], 'Capacity_'+suppliers[j])"
   ]
  },
  {
   "cell_type": "code",
   "execution_count": 38,
   "id": "3b69a417",
   "metadata": {},
   "outputs": [
    {
     "data": {
      "text/plain": [
       "<(1,) matrix constraint *awaiting model update*>"
      ]
     },
     "execution_count": 38,
     "metadata": {},
     "output_type": "execute_result"
    }
   ],
   "source": [
    "model.addConstr(x[0][0] == 0, name='Abrosi_restriction')"
   ]
  },
  {
   "cell_type": "code",
   "execution_count": 39,
   "id": "8c02f934",
   "metadata": {},
   "outputs": [
    {
     "data": {
      "text/plain": [
       "<(1,) matrix constraint *awaiting model update*>"
      ]
     },
     "execution_count": 39,
     "metadata": {},
     "output_type": "execute_result"
    }
   ],
   "source": [
    "model.addConstr(x[0][3] == 0, name='De Blasi_restriction')"
   ]
  },
  {
   "cell_type": "markdown",
   "id": "ed8ac20a",
   "metadata": {},
   "source": [
    "## Find the optimal solution"
   ]
  },
  {
   "cell_type": "code",
   "execution_count": 40,
   "id": "92763090",
   "metadata": {},
   "outputs": [
    {
     "name": "stdout",
     "output_type": "stream",
     "text": [
      "Gurobi Optimizer version 9.1.2 build v9.1.2rc0 (mac64)\n",
      "Thread count: 2 physical cores, 4 logical processors, using up to 4 threads\n",
      "Optimize a model with 13 rows, 28 columns and 56 nonzeros\n",
      "Model fingerprint: 0x6d49d343\n",
      "Coefficient statistics:\n",
      "  Matrix range     [2e-01, 1e+00]\n",
      "  Objective range  [3e-01, 2e+01]\n",
      "  Bounds range     [0e+00, 0e+00]\n",
      "  RHS range        [2e+03, 4e+04]\n",
      "Presolve removed 2 rows and 2 columns\n",
      "Presolve time: 0.02s\n",
      "Presolved: 11 rows, 26 columns, 52 nonzeros\n",
      "\n",
      "Iteration    Objective       Primal Inf.    Dual Inf.      Time\n",
      "       0    0.0000000e+00   1.650000e+04   0.000000e+00      0s\n",
      "      14    1.3825443e+06   0.000000e+00   0.000000e+00      0s\n",
      "\n",
      "Solved in 14 iterations and 0.08 seconds\n",
      "Optimal objective  1.382544334e+06\n"
     ]
    }
   ],
   "source": [
    "model.optimize()"
   ]
  },
  {
   "cell_type": "markdown",
   "id": "1d29f97f",
   "metadata": {},
   "source": [
    "## Show the optimal solution"
   ]
  },
  {
   "cell_type": "code",
   "execution_count": 41,
   "id": "78944cb8",
   "metadata": {},
   "outputs": [
    {
     "data": {
      "text/plain": [
       "1382544.3343149226"
      ]
     },
     "execution_count": 41,
     "metadata": {},
     "output_type": "execute_result"
    }
   ],
   "source": [
    "model.objVal"
   ]
  },
  {
   "cell_type": "markdown",
   "id": "235574c3",
   "metadata": {},
   "source": [
    "## Show the optimal values for the DVs"
   ]
  },
  {
   "cell_type": "code",
   "execution_count": 42,
   "id": "249ccb31",
   "metadata": {},
   "outputs": [
    {
     "name": "stdout",
     "output_type": "stream",
     "text": [
      "Optimal values for DVs:\n",
      "x_extra_fine_Ambrosi = 0.0\n",
      "x_extra_fine_Bresciani = 4286.0\n",
      "x_extra_fine_Castri = 3704.0\n",
      "x_extra_fine_De Blasi = 0.0\n",
      "x_extra_fine_Estensi = 3846.0\n",
      "x_extra_fine_Filatoi R. = 13164.0\n",
      "x_extra_fine_Giuliani = 0.0\n",
      "x_fine_Ambrosi = 6250.0\n",
      "x_fine_Bresciani = 0.0\n",
      "x_fine_Castri = 0.0\n",
      "x_fine_De Blasi = 0.0\n",
      "x_fine_Estensi = 0.0\n",
      "x_fine_Filatoi R. = 19750.0\n",
      "x_fine_Giuliani = 0.0\n",
      "x_medium_Ambrosi = 0.0\n",
      "x_medium_Bresciani = 0.0\n",
      "x_medium_Castri = 0.0\n",
      "x_medium_De Blasi = 2040.0\n",
      "x_medium_Estensi = 0.0\n",
      "x_medium_Filatoi R. = 18817.0\n",
      "x_medium_Giuliani = 7143.0\n",
      "x_coarse_Ambrosi = 0.0\n",
      "x_coarse_Bresciani = 0.0\n",
      "x_coarse_Castri = 0.0\n",
      "x_coarse_De Blasi = 0.0\n",
      "x_coarse_Estensi = 0.0\n",
      "x_coarse_Filatoi R. = 28000.0\n",
      "x_coarse_Giuliani = 0.0\n"
     ]
    }
   ],
   "source": [
    "print('Optimal values for DVs:')\n",
    "for v in model.getVars():\n",
    "    print(v.varName, '=', round(v.x,0))"
   ]
  },
  {
   "cell_type": "markdown",
   "id": "eb15dabf",
   "metadata": {},
   "source": [
    "## (c)"
   ]
  },
  {
   "cell_type": "markdown",
   "id": "205ddf97",
   "metadata": {},
   "source": [
    "## Generate the sensitivity analysis to determine if Falatoi Riuniti should rent the upgrade without re-optimizing the model from part (b)"
   ]
  },
  {
   "cell_type": "code",
   "execution_count": 44,
   "id": "9fbfbde5",
   "metadata": {},
   "outputs": [
    {
     "name": "stdout",
     "output_type": "stream",
     "text": [
      "Sensitivity Analysis (SA)\n",
      " ObjVal = 1382544.3343149226\n",
      "\n",
      "    Variable            X          Obj     SAObjLow      SAObjUp \n",
      "----------------------------------------------------------------\n",
      "x_extra_fine_Ambrosi            0          0.3         -inf          inf \n",
      "x_extra_fine_Bresciani      4285.71         17.8         -inf      18.5735 \n",
      "x_extra_fine_Castri       3703.7         18.2         -inf      19.4048 \n",
      "x_extra_fine_De Blasi            0          0.7         -inf          inf \n",
      "x_extra_fine_Estensi      3846.15         18.2         -inf      18.9108 \n",
      "x_extra_fine_Filatoi R.      13164.4        18.25      17.5392      20.0265 \n",
      "x_extra_fine_Giuliani            0        19.75      17.9735          inf \n",
      "x_fine_Ambrosi         6250         13.3         -inf      13.6788 \n",
      "x_fine_Bresciani            0         14.5       13.692          inf \n",
      "x_fine_Castri            0        15.02      14.0431          inf \n",
      "x_fine_De Blasi            0           15      14.9588          inf \n",
      "x_fine_Estensi            0         14.5      14.0079          inf \n",
      "x_fine_Filatoi R.        19750         13.9      13.5212      13.9412 \n",
      "x_fine_Giuliani            0         14.4      13.9303          inf \n",
      "x_medium_Ambrosi            0         11.1      10.7449          inf \n",
      "x_medium_Bresciani            0         11.8      11.4132          inf \n",
      "x_medium_Castri            0         12.2      11.4861          inf \n",
      "x_medium_De Blasi      2040.13         12.3         11.5       12.335 \n",
      "x_medium_Estensi            0        12.45      11.4548          inf \n",
      "x_medium_Filatoi R.        18817         11.4       11.365       11.722 \n",
      "x_medium_Giuliani      7142.86         11.5         -inf      11.8654 \n",
      "x_coarse_Ambrosi            0        10.05      8.76324          inf \n",
      "x_coarse_Bresciani            0        10.05       9.1666          inf \n",
      "x_coarse_Castri            0         10.7      9.29129          inf \n",
      "x_coarse_De Blasi            0        10.65          9.8          inf \n",
      "x_coarse_Estensi            0        10.65      9.27172          inf \n",
      "x_coarse_Filatoi R.        28000          8.9         -0.9         9.75 \n",
      "x_coarse_Giuliani            0        10.15      8.88571          inf \n",
      "\n",
      "    Variable            X           RC           LB      SALBLow       SALBUp           UB      SAUBLow       SAUBUp \n",
      "--------------------------------------------------------------------------------------------------------------------\n",
      "x_extra_fine_Ambrosi            0            0            0         -inf            0          inf            0          inf \n",
      "x_extra_fine_Bresciani      4285.71            0            0         -inf      4285.71          inf      4285.71          inf \n",
      "x_extra_fine_Castri       3703.7            0            0         -inf       3703.7          inf       3703.7          inf \n",
      "x_extra_fine_De Blasi            0            0            0         -inf            0          inf            0          inf \n",
      "x_extra_fine_Estensi      3846.15            0            0         -inf      3846.15          inf      3846.15          inf \n",
      "x_extra_fine_Filatoi R.      13164.4            0            0         -inf      13164.4          inf      13164.4          inf \n",
      "x_extra_fine_Giuliani            0      1.77647            0     -3853.57      3571.43          inf            0          inf \n",
      "x_fine_Ambrosi         6250            0            0         -inf         6250          inf         6250          inf \n",
      "x_fine_Bresciani            0     0.807983            0     -18430.2         6000          inf            0          inf \n",
      "x_fine_Castri            0     0.976863            0     -19746.6      5555.56          inf            0          inf \n",
      "x_fine_De Blasi            0    0.0411765            0     -15994.5      1734.11          inf            0          inf \n",
      "x_fine_Estensi            0     0.492081            0     -19015.3      5555.56          inf            0          inf \n",
      "x_fine_Filatoi R.        19750            0            0         -inf        19750          inf        19750          inf \n",
      "x_fine_Giuliani            0     0.469748            0     -15994.5      5555.56          inf            0          inf \n",
      "x_medium_Ambrosi            0     0.355147            0     -19818.4      6666.67          inf            0          inf \n",
      "x_medium_Bresciani            0     0.386765            0     -20356.4      7707.14          inf            0          inf \n",
      "x_medium_Castri            0     0.713943            0       -22215         6250          inf            0          inf \n",
      "x_medium_De Blasi      2040.13            0            0         -inf      2040.13          inf      2040.13          inf \n",
      "x_medium_Estensi            0     0.995249            0     -21392.2         6250          inf            0          inf \n",
      "x_medium_Filatoi R.        18817            0            0         -inf        18817          inf        18817          inf \n",
      "x_medium_Giuliani      7142.86            0            0         -inf      7142.86          inf      7142.86          inf \n",
      "x_coarse_Ambrosi            0      1.28676            0     -20356.4      7707.14          inf            0          inf \n",
      "x_coarse_Bresciani            0     0.883403            0     -11349.1       4296.9          inf            0          inf \n",
      "x_coarse_Castri            0      1.40871            0       -11834      4480.47          inf            0          inf \n",
      "x_coarse_De Blasi            0         0.85            0       -12573      2040.13          inf            0          inf \n",
      "x_coarse_Estensi            0      1.37828            0     -12404.7      4696.54          inf            0          inf \n",
      "x_coarse_Filatoi R.        28000            0            0         -inf        28000          inf        28000          inf \n",
      "x_coarse_Giuliani            0      1.26429            0     -14280.9         6250          inf            0          inf \n",
      "\n",
      "  Constraint        Sense        Slack           Pi          RHS     SARHSLow      SARHSUp \n",
      "------------------------------------------------------------------------------------------\n",
      "          R0            >            0      19.5735        25000      23612.7      28664.1 \n",
      "          R1            >            0      14.9588        26000      24265.9      30580.2 \n",
      "          R2            >            0         12.3        28000      25959.9      33388.4 \n",
      "          R3            >            0          9.8        28000      25959.9      33388.4 \n",
      "          R4            <            0     -4.14706         2500      667.928      3193.64 \n",
      "          R5            <            0     -2.53361         3000        435.1       3971.1 \n",
      "          R6            <            0     -2.03486         2500      26.7033      3436.42 \n",
      "          R7            <      1885.96            0         2600      714.044          inf \n",
      "          R8            <            0     -2.11312         2500      118.307      3401.74 \n",
      "          R9            <            0     -2.11765        38000      35709.9      38867.1 \n",
      "         R10            <            0     -2.28571         2500      614.044      3214.04 \n",
      "Abrosi_restriction            =            0     -19.2735           -0           -0      1387.29 \n",
      "De Blasi_restriction            =            0     -18.8735           -0           -0      1387.29 \n"
     ]
    }
   ],
   "source": [
    "print('Sensitivity Analysis (SA)\\n ObjVal =', model.ObjVal)\n",
    "model.printAttr(['X', 'Obj', 'SAObjLow', 'SAObjUp'])\n",
    "model.printAttr(['X', 'RC', 'LB', 'SALBLow', 'SALBUp', 'UB', 'SAUBLow', 'SAUBUp'])\n",
    "model.printAttr(['Sense', 'Slack', 'Pi', 'RHS', 'SARHSLow', 'SARHSUp']) # Pi = shadow price \n",
    "# NOTE: printAttr prints only rows with at least one NON-ZERO value, e.g. model.printAttr('X') prints only non-zero variable values"
   ]
  },
  {
   "cell_type": "markdown",
   "id": "b1c0d426",
   "metadata": {},
   "source": [
    "## (d)"
   ]
  },
  {
   "cell_type": "markdown",
   "id": "38270d5c",
   "metadata": {},
   "source": [
    "## No addtional code required. Question answered by refering to the senstivity analysis generated above for question (c)"
   ]
  },
  {
   "cell_type": "markdown",
   "id": "ef5a6734",
   "metadata": {},
   "source": [
    "## (e)"
   ]
  },
  {
   "cell_type": "markdown",
   "id": "fe7de02f",
   "metadata": {},
   "source": [
    "## Re-solve the model with an additional demand of 6,000 Kg/month such that demand for medium yarn increases from 28,000 Kg/month to 34,000 Kg/month "
   ]
  },
  {
   "cell_type": "code",
   "execution_count": null,
   "id": "76ecbd05",
   "metadata": {},
   "outputs": [],
   "source": [
    "#import gurobipy as gp\n",
    "#from gurobipy import GRB\n",
    "#import numpy as np"
   ]
  },
  {
   "cell_type": "code",
   "execution_count": 29,
   "id": "f984c7be",
   "metadata": {},
   "outputs": [
    {
     "data": {
      "text/plain": [
       "<(1,) matrix constraint *awaiting model update*>"
      ]
     },
     "execution_count": 29,
     "metadata": {},
     "output_type": "execute_result"
    }
   ],
   "source": [
    "machine_hours = [[0, 0.7, 0.675, 0, 0.65 , 0.625, 0.7  ],\n",
    "       [0.4  , 0.5  , 0.45 , 0.45 , 0.45 , 0.5  , 0.45 ],\n",
    "       [0.375, 0.35 , 0.4  , 0.35 , 0.4  , 0.425, 0.35 ],\n",
    "       [0.25 , 0.25 , 0.25 , 0.2  , 0.25 , 0.425, 0.4  ]]\n",
    "\n",
    "#coefficients Cij\n",
    "cost_production = [[ 0  , 17.4 , 17.4 ,  0  , 17.5 , 18.25, 19.75],\n",
    "       [13.  , 14.1 , 14.22, 14.3 , 13.8 , 13.9 , 13.9 ],\n",
    "       [10.65, 11.2 , 11.  , 11.25, 11.4 , 11.4 , 10.75],\n",
    "       [ 9.6 ,  9.45,  9.5 ,  9.6 ,  9.6 ,  8.9 ,  9.4 ]]\n",
    "\n",
    "#coefficients Tij\n",
    "cost_transportation = [[0.3 , 0.4 , 0.8 , 0.7 , 0.7 , 0  , 0  ],\n",
    "       [0.3 , 0.4 , 0.8 , 0.7 , 0.7 , 0.  , 0.5 ],\n",
    "       [0.45, 0.6 , 1.2 , 1.05, 1.05, 0.  , 0.75],\n",
    "       [0.45, 0.6 , 1.2 , 1.05, 1.05, 0.  , 0.75]]\n",
    "\n",
    "\n",
    "capacity = [2500, 3000, 2500, 2600, 2500, 38000, 2500]\n",
    "demand = [25000, 26000, 34000, 28000]\n",
    "\n",
    "products = ['extra_fine', 'fine', 'medium', 'coarse']\n",
    "suppliers = ['Ambrosi','Bresciani', 'Castri', 'De Blasi', 'Estensi', 'Filatoi R.', 'Giuliani']\n",
    "\n",
    "\n",
    "l = len(products)\n",
    "k = len(suppliers)\n",
    "I = range(l)\n",
    "J = range(k)\n",
    "\n",
    "## Initiate the model\n",
    "\n",
    "model1 = gp.Model('Filatoi Riuniti with new client buying medium yarn')\n",
    "\n",
    "## Define the decision variables\n",
    "\n",
    "x = model1.addMVar((l,k), lb=0, vtype = GRB.CONTINUOUS, name = ['x_'+i+'_'+j for i in products for j in suppliers])\n",
    "\n",
    "exp = sum(x[i][j]*(cost_production[i][j] + cost_transportation[i][j]) for i in I for j in J)\n",
    "\n",
    "model1.setObjective(exp, GRB.MINIMIZE)\n",
    "\n",
    "## Define the contraints\n",
    "\n",
    "## Demand constraints\n",
    "\n",
    "for i in I:\n",
    "    model1.addConstr(sum(x[i][j] for j in J) >= demand[i], 'Demand_'+products[i])\n",
    "\n",
    "## Capacity contraints\n",
    "\n",
    "for j in J:\n",
    "    model1.addConstr(sum(machine_hours[i][j]*x[i][j] for i in I) <= capacity[j], 'Capacity_'+suppliers[j])\n",
    "\n",
    "model1.addConstr(x[0][0] == 0, name='Abrosi_restriction')\n",
    "\n",
    "model1.addConstr(x[0][3] == 0, name='De Blasi_restriction')"
   ]
  },
  {
   "cell_type": "code",
   "execution_count": 30,
   "id": "f09060d5",
   "metadata": {},
   "outputs": [
    {
     "name": "stdout",
     "output_type": "stream",
     "text": [
      "Gurobi Optimizer version 9.1.2 build v9.1.2rc0 (mac64)\n",
      "Thread count: 2 physical cores, 4 logical processors, using up to 4 threads\n",
      "Optimize a model with 13 rows, 28 columns and 56 nonzeros\n",
      "Model fingerprint: 0xdb6ba533\n",
      "Coefficient statistics:\n",
      "  Matrix range     [2e-01, 1e+00]\n",
      "  Objective range  [3e-01, 2e+01]\n",
      "  Bounds range     [0e+00, 0e+00]\n",
      "  RHS range        [2e+03, 4e+04]\n",
      "Presolve removed 2 rows and 2 columns\n",
      "Presolve time: 0.02s\n",
      "Presolved: 11 rows, 26 columns, 52 nonzeros\n",
      "\n",
      "Iteration    Objective       Primal Inf.    Dual Inf.      Time\n",
      "       0    0.0000000e+00   1.725000e+04   0.000000e+00      0s\n",
      "      12    1.4572379e+06   0.000000e+00   0.000000e+00      0s\n",
      "\n",
      "Solved in 12 iterations and 0.03 seconds\n",
      "Optimal objective  1.457237883e+06\n"
     ]
    }
   ],
   "source": [
    "## Find the optimal solution\n",
    "\n",
    "model1.optimize()"
   ]
  },
  {
   "cell_type": "code",
   "execution_count": 31,
   "id": "ec284418",
   "metadata": {},
   "outputs": [
    {
     "data": {
      "text/plain": [
       "1457237.882693438"
      ]
     },
     "execution_count": 31,
     "metadata": {},
     "output_type": "execute_result"
    }
   ],
   "source": [
    "## Show the optimal solution\n",
    "\n",
    "model1.objVal"
   ]
  },
  {
   "cell_type": "code",
   "execution_count": 38,
   "id": "89051bfd",
   "metadata": {},
   "outputs": [
    {
     "name": "stdout",
     "output_type": "stream",
     "text": [
      "12.45\n"
     ]
    }
   ],
   "source": [
    "## Show the minimum price that Filatoi Riuniti should quote to this new client \n",
    "\n",
    "price = round(((1457238 - 1382544)/6000),2)\n",
    "\n",
    "print(price)"
   ]
  },
  {
   "cell_type": "markdown",
   "id": "372b8945",
   "metadata": {},
   "source": [
    "## (f)"
   ]
  },
  {
   "cell_type": "markdown",
   "id": "dedb5d5c",
   "metadata": {},
   "source": [
    "## No addtional code required. Question answered by refering to the senstivity analysis generated above for question (c)"
   ]
  },
  {
   "cell_type": "markdown",
   "id": "92374639",
   "metadata": {},
   "source": [
    "## (g)"
   ]
  },
  {
   "cell_type": "markdown",
   "id": "1d137836",
   "metadata": {},
   "source": [
    "## Re-solve the model with the new constraint that the production capacity of fine yarn at the Ambrosi mill is equal to 0."
   ]
  },
  {
   "cell_type": "code",
   "execution_count": 19,
   "id": "21d217bf",
   "metadata": {},
   "outputs": [],
   "source": [
    "#import gurobipy as gp\n",
    "#from gurobipy import GRB\n",
    "#import numpy as np"
   ]
  },
  {
   "cell_type": "code",
   "execution_count": 20,
   "id": "f13125e7",
   "metadata": {},
   "outputs": [
    {
     "data": {
      "text/plain": [
       "<(1,) matrix constraint *awaiting model update*>"
      ]
     },
     "execution_count": 20,
     "metadata": {},
     "output_type": "execute_result"
    }
   ],
   "source": [
    "machine_hours = [[0, 0.7, 0.675, 0, 0.65 , 0.625, 0.7  ],\n",
    "       [0.4  , 0.5  , 0.45 , 0.45 , 0.45 , 0.5  , 0.45 ],\n",
    "       [0.375, 0.35 , 0.4  , 0.35 , 0.4  , 0.425, 0.35 ],\n",
    "       [0.25 , 0.25 , 0.25 , 0.2  , 0.25 , 0.425, 0.4  ]]\n",
    "\n",
    "#coefficients Cij\n",
    "cost_production = [[ 0  , 17.4 , 17.4 ,  0  , 17.5 , 18.25, 19.75],\n",
    "       [13.  , 14.1 , 14.22, 14.3 , 13.8 , 13.9 , 13.9 ],\n",
    "       [10.65, 11.2 , 11.  , 11.25, 11.4 , 11.4 , 10.75],\n",
    "       [ 9.6 ,  9.45,  9.5 ,  9.6 ,  9.6 ,  8.9 ,  9.4 ]]\n",
    "\n",
    "#coefficients Tij\n",
    "cost_transportation = [[0.3 , 0.4 , 0.8 , 0.7 , 0.7 , 0  , 0  ],\n",
    "       [0.3 , 0.4 , 0.8 , 0.7 , 0.7 , 0.  , 0.5 ],\n",
    "       [0.45, 0.6 , 1.2 , 1.05, 1.05, 0.  , 0.75],\n",
    "       [0.45, 0.6 , 1.2 , 1.05, 1.05, 0.  , 0.75]]\n",
    "\n",
    "\n",
    "capacity = [2500, 3000, 2500, 2600, 2500, 38000, 2500]\n",
    "demand = [25000, 26000, 28000, 28000]\n",
    "\n",
    "products = ['extra_fine', 'fine', 'medium', 'coarse']\n",
    "suppliers = ['Ambrosi','Bresciani', 'Castri', 'De Blasi', 'Estensi', 'Filatoi R.', 'Giuliani']\n",
    "\n",
    "\n",
    "l = len(products)\n",
    "k = len(suppliers)\n",
    "I = range(l)\n",
    "J = range(k)\n",
    "\n",
    "## Initiate the model\n",
    "\n",
    "model2 = gp.Model('Filatoi Riuniti where Ambrosi produced no fine yarn')\n",
    "\n",
    "## Define the decision variables\n",
    "\n",
    "x = model2.addMVar((l,k), lb=0, vtype = GRB.CONTINUOUS, name = ['x_'+i+'_'+j for i in products for j in suppliers])\n",
    "\n",
    "exp = sum(x[i][j]*(cost_production[i][j] + cost_transportation[i][j]) for i in I for j in J)\n",
    "\n",
    "model2.setObjective(exp, GRB.MINIMIZE)\n",
    "\n",
    "## Define the contraints\n",
    "\n",
    "## Demand constraints\n",
    "\n",
    "for i in I:\n",
    "    model2.addConstr(sum(x[i][j] for j in J) >= demand[i], 'Demand_'+products[i])\n",
    "\n",
    "## Capacity contraints\n",
    "\n",
    "for j in J:\n",
    "    model2.addConstr(sum(machine_hours[i][j]*x[i][j] for i in I) <= capacity[j], 'Capacity_'+suppliers[j])\n",
    "\n",
    "model2.addConstr(x[0][0] == 0, name='Abrosi_restriction')\n",
    "\n",
    "model2.addConstr(x[0][3] == 0, name='De Blasi_restriction')\n",
    "\n",
    "model2.addConstr(x[1][0] == 0, name='New Ambrosi_restriction')"
   ]
  },
  {
   "cell_type": "code",
   "execution_count": 21,
   "id": "37f692b9",
   "metadata": {},
   "outputs": [
    {
     "name": "stdout",
     "output_type": "stream",
     "text": [
      "Gurobi Optimizer version 9.1.2 build v9.1.2rc0 (mac64)\n",
      "Thread count: 2 physical cores, 4 logical processors, using up to 4 threads\n",
      "Optimize a model with 14 rows, 28 columns and 57 nonzeros\n",
      "Model fingerprint: 0x497c0971\n",
      "Coefficient statistics:\n",
      "  Matrix range     [2e-01, 1e+00]\n",
      "  Objective range  [3e-01, 2e+01]\n",
      "  Bounds range     [0e+00, 0e+00]\n",
      "  RHS range        [2e+03, 4e+04]\n",
      "Presolve removed 3 rows and 3 columns\n",
      "Presolve time: 0.05s\n",
      "Presolved: 11 rows, 25 columns, 50 nonzeros\n",
      "\n",
      "Iteration    Objective       Primal Inf.    Dual Inf.      Time\n",
      "       0    0.0000000e+00   1.650000e+04   0.000000e+00      0s\n",
      "      14    1.3849120e+06   0.000000e+00   0.000000e+00      0s\n",
      "\n",
      "Solved in 14 iterations and 0.06 seconds\n",
      "Optimal objective  1.384911981e+06\n"
     ]
    }
   ],
   "source": [
    "## Find the optimal solution\n",
    "\n",
    "model2.optimize()"
   ]
  },
  {
   "cell_type": "code",
   "execution_count": 22,
   "id": "d1b77546",
   "metadata": {},
   "outputs": [
    {
     "data": {
      "text/plain": [
       "1384911.981373746"
      ]
     },
     "execution_count": 22,
     "metadata": {},
     "output_type": "execute_result"
    }
   ],
   "source": [
    "## Show the optimal solution\n",
    "\n",
    "model2.objVal"
   ]
  },
  {
   "cell_type": "code",
   "execution_count": 23,
   "id": "bc100fad",
   "metadata": {},
   "outputs": [
    {
     "name": "stdout",
     "output_type": "stream",
     "text": [
      "Optimal values for DVs:\n",
      "x_extra_fine_Ambrosi = 0.0\n",
      "x_extra_fine_Bresciani = 4286.0\n",
      "x_extra_fine_Castri = 3704.0\n",
      "x_extra_fine_De Blasi = 0.0\n",
      "x_extra_fine_Estensi = 3846.0\n",
      "x_extra_fine_Filatoi R. = 13164.0\n",
      "x_extra_fine_Giuliani = 0.0\n",
      "x_fine_Ambrosi = 0.0\n",
      "x_fine_Bresciani = 0.0\n",
      "x_fine_Castri = 0.0\n",
      "x_fine_De Blasi = 0.0\n",
      "x_fine_Estensi = 0.0\n",
      "x_fine_Filatoi R. = 26000.0\n",
      "x_fine_Giuliani = 0.0\n",
      "x_medium_Ambrosi = 6667.0\n",
      "x_medium_Bresciani = 0.0\n",
      "x_medium_Castri = 0.0\n",
      "x_medium_De Blasi = 2726.0\n",
      "x_medium_Estensi = 0.0\n",
      "x_medium_Filatoi R. = 11464.0\n",
      "x_medium_Giuliani = 7143.0\n",
      "x_coarse_Ambrosi = 0.0\n",
      "x_coarse_Bresciani = 0.0\n",
      "x_coarse_Castri = 0.0\n",
      "x_coarse_De Blasi = 0.0\n",
      "x_coarse_Estensi = 0.0\n",
      "x_coarse_Filatoi R. = 28000.0\n",
      "x_coarse_Giuliani = 0.0\n"
     ]
    }
   ],
   "source": [
    "## Show the optimal values for the DVs\n",
    "\n",
    "print('Optimal values for DVs:')\n",
    "for v in model2.getVars():\n",
    "    print(v.varName, '=', round(v.x,0))"
   ]
  },
  {
   "cell_type": "code",
   "execution_count": 25,
   "id": "74bac865",
   "metadata": {},
   "outputs": [
    {
     "data": {
      "text/plain": [
       "2368"
      ]
     },
     "execution_count": 25,
     "metadata": {},
     "output_type": "execute_result"
    }
   ],
   "source": [
    "## calculate the difference between the new optimal solution and the optimal solution to the original model\n",
    "\n",
    "1384912 - 1382544"
   ]
  },
  {
   "cell_type": "markdown",
   "id": "d0e9f54f",
   "metadata": {},
   "source": [
    "## (h)"
   ]
  },
  {
   "cell_type": "markdown",
   "id": "4b166178",
   "metadata": {},
   "source": [
    "## Re-solve the model with a new mill which represents overtime production at the Giuliani mill."
   ]
  },
  {
   "cell_type": "code",
   "execution_count": 6,
   "id": "5df5e9aa",
   "metadata": {},
   "outputs": [],
   "source": [
    "#import gurobipy as gp\n",
    "#from gurobipy import GRB\n",
    "#import numpy as np"
   ]
  },
  {
   "cell_type": "markdown",
   "id": "e7f9f0b2",
   "metadata": {},
   "source": [
    "## import problem data with the new model included"
   ]
  },
  {
   "cell_type": "code",
   "execution_count": 49,
   "id": "4a10c725",
   "metadata": {},
   "outputs": [],
   "source": [
    "machine_hours = [[0, 0.7, 0.675, 0, 0.65 , 0.625, 0.7, 0.7],\n",
    "       [0.4  , 0.5  , 0.45 , 0.45 , 0.45 , 0.5  , 0.45, 0.45],\n",
    "       [0.375, 0.35 , 0.4  , 0.35 , 0.4  , 0.425, 0.35, 0.35],\n",
    "       [0.25 , 0.25 , 0.25 , 0.2  , 0.25 , 0.425, 0.4, 0.4]]\n",
    "\n",
    "#coefficients Cij\n",
    "cost_production = [[ 0  , 17.4 , 17.4 ,  0  , 17.5 , 18.25, 19.75, 21.03],\n",
    "       [13.  , 14.1 , 14.22, 14.3 , 13.8 , 13.9 , 13.9, 14.80 ],\n",
    "       [10.65, 11.2 , 11.  , 11.25, 11.4 , 11.4 , 10.75, 11.45],\n",
    "       [ 9.6 ,  9.45,  9.5 ,  9.6 ,  9.6 ,  8.9 ,  9.4, 10.01 ]]\n",
    "\n",
    "#coefficients Tij\n",
    "cost_transportation = [[0.3 , 0.4 , 0.8 , 0.7 , 0.7 , 0  , 0, 0],\n",
    "       [0.3 , 0.4 , 0.8 , 0.7 , 0.7 , 0.  , 0.5, 0.5 ],\n",
    "       [0.45, 0.6 , 1.2 , 1.05, 1.05, 0.  , 0.75, 0.75],\n",
    "       [0.45, 0.6 , 1.2 , 1.05, 1.05, 0.  , 0.75, 0.75]]\n",
    "\n",
    "\n",
    "capacity = [2500, 3000, 2500, 2600, 2500, 38000, 2500, 2500]\n",
    "demand = [25000, 26000, 28000, 28000]\n",
    "\n",
    "products = ['extra_fine', 'fine', 'medium', 'coarse']\n",
    "suppliers = ['Ambrosi','Bresciani', 'Castri', 'De Blasi', 'Estensi', 'Filatoi R.', 'Giuliani', 'New Mill']"
   ]
  },
  {
   "cell_type": "code",
   "execution_count": 50,
   "id": "7b32e012",
   "metadata": {},
   "outputs": [],
   "source": [
    "l = len(products)\n",
    "k = len(suppliers)\n",
    "I = range(l)\n",
    "J = range(k)"
   ]
  },
  {
   "cell_type": "markdown",
   "id": "b4d4ea2a",
   "metadata": {},
   "source": [
    "## Initiate the model"
   ]
  },
  {
   "cell_type": "code",
   "execution_count": 51,
   "id": "b9a8a6ba",
   "metadata": {},
   "outputs": [],
   "source": [
    "model_overtime = gp.Model('Filatoi Riuniti with overtime production at Giuliani mill')"
   ]
  },
  {
   "cell_type": "markdown",
   "id": "d03bd449",
   "metadata": {},
   "source": [
    "## Define the decision variables"
   ]
  },
  {
   "cell_type": "code",
   "execution_count": 52,
   "id": "9157c6fe",
   "metadata": {},
   "outputs": [],
   "source": [
    "x = model_overtime.addMVar((l,k), lb=0, vtype = GRB.CONTINUOUS, \n",
    "                           name = ['x_'+i+'_'+j for i in products for j in suppliers])"
   ]
  },
  {
   "cell_type": "code",
   "execution_count": 53,
   "id": "a291fa6d",
   "metadata": {},
   "outputs": [],
   "source": [
    "exp = sum(x[i][j]*(cost_production[i][j] + cost_transportation[i][j]) for i in I for j in J)"
   ]
  },
  {
   "cell_type": "code",
   "execution_count": 54,
   "id": "88271868",
   "metadata": {},
   "outputs": [],
   "source": [
    "model_overtime.setObjective(exp, GRB.MINIMIZE)"
   ]
  },
  {
   "cell_type": "code",
   "execution_count": 55,
   "id": "a11b3914",
   "metadata": {},
   "outputs": [
    {
     "name": "stdout",
     "output_type": "stream",
     "text": [
      "Gurobi Optimizer version 9.1.2 build v9.1.2rc0 (mac64)\n",
      "Thread count: 2 physical cores, 4 logical processors, using up to 4 threads\n",
      "Optimize a model with 14 rows, 32 columns and 64 nonzeros\n",
      "Model fingerprint: 0xdd2fd069\n",
      "Coefficient statistics:\n",
      "  Matrix range     [2e-01, 1e+00]\n",
      "  Objective range  [3e-01, 2e+01]\n",
      "  Bounds range     [0e+00, 0e+00]\n",
      "  RHS range        [2e+03, 4e+04]\n",
      "Presolve removed 2 rows and 2 columns\n",
      "Presolve time: 0.06s\n",
      "Presolved: 12 rows, 30 columns, 60 nonzeros\n",
      "\n",
      "Iteration    Objective       Primal Inf.    Dual Inf.      Time\n",
      "       0    0.0000000e+00   1.650000e+04   0.000000e+00      0s\n",
      "      14    1.3823403e+06   0.000000e+00   0.000000e+00      0s\n",
      "\n",
      "Solved in 14 iterations and 0.12 seconds\n",
      "Optimal objective  1.382340322e+06\n"
     ]
    }
   ],
   "source": [
    "## Define the contraints\n",
    "\n",
    "## Demand constraints\n",
    "\n",
    "for i in I:\n",
    "    model_overtime.addConstr(sum(x[i][j] for j in J) >= demand[i], 'Demand_'+products[i])\n",
    "\n",
    "## Capacity contraints\n",
    "\n",
    "for j in J:\n",
    "    model_overtime.addConstr(sum(machine_hours[i][j]*x[i][j] for i in I) <= capacity[j], 'Capacity_'+suppliers[j])\n",
    "\n",
    "model_overtime.addConstr(x[0][0] == 0, name='Abrosi_restriction')\n",
    "\n",
    "model_overtime.addConstr(x[0][3] == 0, name='De Blasi_restriction')\n",
    "\n",
    "## Find the optimal solution\n",
    "\n",
    "model_overtime.optimize()"
   ]
  },
  {
   "cell_type": "code",
   "execution_count": 56,
   "id": "9e68c1e6",
   "metadata": {},
   "outputs": [
    {
     "data": {
      "text/plain": [
       "1382340.3217697334"
      ]
     },
     "execution_count": 56,
     "metadata": {},
     "output_type": "execute_result"
    }
   ],
   "source": [
    "## Show the optimal solution\n",
    "\n",
    "model_overtime.objVal"
   ]
  },
  {
   "cell_type": "code",
   "execution_count": 57,
   "id": "8c89bbee",
   "metadata": {},
   "outputs": [
    {
     "name": "stdout",
     "output_type": "stream",
     "text": [
      "Optimal values for DVs:\n",
      "x_extra_fine_Ambrosi = 0.0\n",
      "x_extra_fine_Bresciani = 4286.0\n",
      "x_extra_fine_Castri = 3704.0\n",
      "x_extra_fine_De Blasi = 0.0\n",
      "x_extra_fine_Estensi = 3846.0\n",
      "x_extra_fine_Filatoi R. = 13164.0\n",
      "x_extra_fine_Giuliani = 0.0\n",
      "x_extra_fine_New Mill = 0.0\n",
      "x_fine_Ambrosi = 6250.0\n",
      "x_fine_Bresciani = 0.0\n",
      "x_fine_Castri = 0.0\n",
      "x_fine_De Blasi = 0.0\n",
      "x_fine_Estensi = 0.0\n",
      "x_fine_Filatoi R. = 19750.0\n",
      "x_fine_Giuliani = 0.0\n",
      "x_fine_New Mill = 0.0\n",
      "x_medium_Ambrosi = 0.0\n",
      "x_medium_Bresciani = 0.0\n",
      "x_medium_Castri = 0.0\n",
      "x_medium_De Blasi = 0.0\n",
      "x_medium_Estensi = 0.0\n",
      "x_medium_Filatoi R. = 18817.0\n",
      "x_medium_Giuliani = 7143.0\n",
      "x_medium_New Mill = 2040.0\n",
      "x_coarse_Ambrosi = 0.0\n",
      "x_coarse_Bresciani = 0.0\n",
      "x_coarse_Castri = 0.0\n",
      "x_coarse_De Blasi = 0.0\n",
      "x_coarse_Estensi = 0.0\n",
      "x_coarse_Filatoi R. = 28000.0\n",
      "x_coarse_Giuliani = 0.0\n",
      "x_coarse_New Mill = 0.0\n"
     ]
    }
   ],
   "source": [
    "## Show the optimal values for the DVs\n",
    "\n",
    "print('Optimal values for DVs:')\n",
    "for v in model_overtime.getVars():\n",
    "    print(v.varName, '=', round(v.x,0))"
   ]
  }
 ],
 "metadata": {
  "kernelspec": {
   "display_name": "Python 3 (ipykernel)",
   "language": "python",
   "name": "python3"
  },
  "language_info": {
   "codemirror_mode": {
    "name": "ipython",
    "version": 3
   },
   "file_extension": ".py",
   "mimetype": "text/x-python",
   "name": "python",
   "nbconvert_exporter": "python",
   "pygments_lexer": "ipython3",
   "version": "3.8.8"
  }
 },
 "nbformat": 4,
 "nbformat_minor": 5
}
